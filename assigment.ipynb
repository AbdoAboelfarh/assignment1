{
 "cells": [
  {
   "cell_type": "markdown",
   "id": "75cdf487",
   "metadata": {},
   "source": [
    "NumPy Practice Notebook"
   ]
  },
  {
   "cell_type": "code",
   "execution_count": 3,
   "id": "a4046a61",
   "metadata": {},
   "outputs": [],
   "source": [
    "import numpy as np"
   ]
  },
  {
   "cell_type": "code",
   "execution_count": null,
   "id": "af782c07",
   "metadata": {},
   "outputs": [
    {
     "name": "stdout",
     "output_type": "stream",
     "text": [
      "[0 1 2 3 4 5 6 7 8 9]\n",
      "[[0. 0. 0.]\n",
      " [0. 0. 0.]\n",
      " [0. 0. 0.]]\n",
      "[[1. 1. 1. 1.]\n",
      " [1. 1. 1. 1.]]\n",
      "[[1. 0. 0.]\n",
      " [0. 1. 0.]\n",
      " [0. 0. 1.]]\n"
     ]
    }
   ],
   "source": [
    "# 1. Array Creation\n",
    "# 1. 1D array with numbers from 0 to 9\n",
    "arr1 = np.arange(10)\n",
    "print(arr1)\n",
    "\n",
    "# 2. 2D array of shape (3, 3) filled with zeros\n",
    "arr2 = np.zeros((3, 3))\n",
    "print(arr2)\n",
    "\n",
    "# 3. 2D array of shape (2, 4) filled with ones\n",
    "arr3 = np.ones((2, 4))\n",
    "print( arr3)\n",
    "\n",
    "# 4. 3x3 identity matrix\n",
    "arr4 = np.eye(3)\n",
    "print( arr4)\n"
   ]
  },
  {
   "cell_type": "code",
   "execution_count": null,
   "id": "9464c93b",
   "metadata": {},
   "outputs": [
    {
     "name": "stdout",
     "output_type": "stream",
     "text": [
      "(2, 3)\n",
      "int64\n",
      "2\n",
      "6\n"
     ]
    }
   ],
   "source": [
    "# 2. Array Inspection\n",
    "arr = np.array([[1, 2, 3], [4, 5, 6]])\n",
    "\n",
    "# Print shape\n",
    "print(arr.shape)\n",
    "\n",
    "# Print data type\n",
    "print(arr.dtype)\n",
    "\n",
    "# Print number of dimensions\n",
    "print(arr.ndim)\n",
    "\n",
    "# Print total number of elements\n",
    "print(arr.size)\n"
   ]
  },
  {
   "cell_type": "code",
   "execution_count": null,
   "id": "1c22f914",
   "metadata": {},
   "outputs": [
    {
     "name": "stdout",
     "output_type": "stream",
     "text": [
      "[[10 20 30]\n",
      " [40 50 60]]\n",
      "[30 60 90]\n",
      "60\n",
      "[[70 80 90]\n",
      " [40 50 60]\n",
      " [10 20 30]]\n"
     ]
    }
   ],
   "source": [
    "# 3. Indexing and Slicing\n",
    "arr = np.array([[10, 20, 30],\n",
    "                [40, 50, 60],\n",
    "                [70, 80, 90]])\n",
    "\n",
    "# 1. Slice the first two rows\n",
    "first_two_rows = arr[:2, :]\n",
    "print(first_two_rows)\n",
    "\n",
    "# 2. Get the last column\n",
    "last_column = arr[:, -1]\n",
    "print(last_column)\n",
    "\n",
    "# 3. Extract the element in the second row and third column\n",
    "element_2nd_row_3rd_col = arr[1, 2]\n",
    "print( element_2nd_row_3rd_col)\n",
    "\n",
    "# 4. Reverse the rows\n",
    "reversed_rows = arr[::-1, :]\n",
    "print( reversed_rows)\n"
   ]
  },
  {
   "cell_type": "code",
   "execution_count": null,
   "id": "1ffdad74",
   "metadata": {},
   "outputs": [
    {
     "name": "stdout",
     "output_type": "stream",
     "text": [
      "[ 2  4  6  8 10 12 14 16]\n",
      "[[ 5  6  7  8]\n",
      " [ 9 10 11 12]]\n",
      "[[ 3  4]\n",
      " [ 7  8]\n",
      " [11 12]\n",
      " [15 16]]\n",
      "[[ 6  7]\n",
      " [10 11]]\n"
     ]
    }
   ],
   "source": [
    "# 4. More Slicing Practice\n",
    "arr = np.array([[1, 2, 3, 4],\n",
    "                [5, 6, 7, 8],\n",
    "                [9, 10, 11, 12],\n",
    "                [13, 14, 15, 16]])\n",
    "\n",
    "# 1.  all even numbers\n",
    "even_numbers = arr[arr % 2 == 0]\n",
    "print( even_numbers)\n",
    "\n",
    "# 2. the second and third rows\n",
    "second_third_rows = arr[1:3, :]\n",
    "print(second_third_rows)\n",
    "\n",
    "# 3.  the last two columns\n",
    "last_two_columns = arr[:, -2:]\n",
    "print( last_two_columns)\n",
    "\n",
    "# 4.  the middle 2x2 block (rows 1-2 and columns 1-2)\n",
    "middle_2x2 = arr[1:3, 1:3]\n",
    "print( middle_2x2)\n"
   ]
  },
  {
   "cell_type": "code",
   "execution_count": null,
   "id": "fb5484fc",
   "metadata": {},
   "outputs": [
    {
     "name": "stdout",
     "output_type": "stream",
     "text": [
      "[5 7 9]\n",
      "[ 4 10 18]\n",
      "[1 4 9]\n"
     ]
    }
   ],
   "source": [
    "# Arithmetic Operations\n",
    "arr1 = np.array([1, 2, 3])\n",
    "arr2 = np.array([4, 5, 6])\n",
    "\n",
    "# 1. Add two arrays element-wise\n",
    "added = arr1 + arr2\n",
    "print( added)\n",
    "\n",
    "# 2. Multiply two arrays element-wise\n",
    "multiplied = arr1 * arr2\n",
    "print(multiplied) \n",
    "\n",
    "# 3. Raise all elements of arr1 to the power of 2\n",
    "squared = arr1 ** 2\n",
    "print( squared)\n"
   ]
  },
  {
   "cell_type": "code",
   "execution_count": null,
   "id": "7d689e5b",
   "metadata": {},
   "outputs": [
    {
     "name": "stdout",
     "output_type": "stream",
     "text": [
      "[[11 22 33]\n",
      " [14 25 36]]\n",
      "[[ 10  40  90]\n",
      " [ 40 100 180]]\n",
      "[[-4 -3 -2]\n",
      " [-1  0  1]]\n",
      "[[2 3 4]\n",
      " [6 7 8]]\n"
     ]
    }
   ],
   "source": [
    "#6. Broadcasting\n",
    "A = np.array([[1, 2, 3],\n",
    "              [4, 5, 6]])\n",
    "\n",
    "B = np.array([10, 20, 30])\n",
    "C = np.array([[1], [2]])\n",
    "\n",
    "# 1. Add a 1D array to each row of a 2D array\n",
    "add_row = A + B\n",
    "print( add_row)\n",
    "\n",
    "# 2. Multiply each row of a 2D array by a 1D array\n",
    "multiply_row = A * B\n",
    "print( multiply_row)\n",
    "\n",
    "# 3. Subtract a scalar from each element in an array\n",
    "subtract_scalar = A - 5\n",
    "print( subtract_scalar)\n",
    "\n",
    "# 4. Add a column vector to each column of a matrix\n",
    "add_column = A + C\n",
    "print( add_column)\n"
   ]
  },
  {
   "cell_type": "code",
   "execution_count": null,
   "id": "b7ff755a",
   "metadata": {},
   "outputs": [
    {
     "name": "stdout",
     "output_type": "stream",
     "text": [
      "[[100 201 302 403]\n",
      " [104 205 306 407]\n",
      " [108 209 310 411]]\n",
      "[[ 200  400  600  800]\n",
      " [ 300  600  900 1200]\n",
      " [ 400  800 1200 1600]]\n",
      "(3, 4)\n",
      "[[10 11 12 13]\n",
      " [14 15 16 17]\n",
      " [18 19 20 21]]\n"
     ]
    }
   ],
   "source": [
    "# 7. More Broadcasting Practice\n",
    "A = np.arange(12).reshape(3, 4)      \n",
    "B = np.array([100, 200, 300, 400])   \n",
    "C = np.array([[2], [3], [4]])        \n",
    "\n",
    "# 1. Add a 1D array of shape (4,) to a 2D array of shape (3,4)\n",
    "add_rowwise = A + B\n",
    "print(add_rowwise)\n",
    "\n",
    "# 2. Multiply a (3,1) column array to a (1,4) row array\n",
    "multiply_outer = C * B.reshape(1, 4)   \n",
    "print( multiply_outer)\n",
    "print( multiply_outer.shape)\n",
    "\n",
    "# 3. Add a scalar to the entire array\n",
    "add_scalar = A + 10\n",
    "print( add_scalar)\n"
   ]
  },
  {
   "cell_type": "code",
   "execution_count": null,
   "id": "a19fb9e0",
   "metadata": {},
   "outputs": [
    {
     "name": "stdout",
     "output_type": "stream",
     "text": [
      "[[ 0  1  2  3]\n",
      " [ 4  5  6  7]\n",
      " [ 8  9 10 11]]\n",
      "[ 0  1  2  3  4  5  6  7  8  9 10 11]\n"
     ]
    }
   ],
   "source": [
    "# 8. Reshaping and Flattening\n",
    "arr = np.arange(12) \n",
    "\n",
    "# 1. Reshape to a 3x4 matrix\n",
    "reshaped_arr = arr.reshape(3, 4)\n",
    "print( reshaped_arr)\n",
    "\n",
    "# 2. Flatten back to 1D array\n",
    "flattened_arr = reshaped_arr.flatten()\n",
    "print( flattened_arr)\n"
   ]
  },
  {
   "cell_type": "code",
   "execution_count": null,
   "id": "48c733ac",
   "metadata": {},
   "outputs": [
    {
     "name": "stdout",
     "output_type": "stream",
     "text": [
      "[[1 2]\n",
      " [3 4]\n",
      " [5 6]\n",
      " [7 8]]\n",
      "[[1 2 5 6]\n",
      " [3 4 7 8]]\n",
      "[[ 0  1  2  3  4  5  6  7]\n",
      " [ 8  9 10 11 12 13 14 15]]\n",
      "[15 20 25 30]\n",
      "[[ 5 -1 15]\n",
      " [-1 25 -1]]\n"
     ]
    }
   ],
   "source": [
    "# 9. Stacking and Splitting\n",
    "# Two (2,2) arrays\n",
    "a1 = np.array([[1, 2], [3, 4]])\n",
    "a2 = np.array([[5, 6], [7, 8]])\n",
    "\n",
    "# Stack vertically (shape becomes (4,2))\n",
    "v_stack = np.vstack((a1, a2))\n",
    "print( v_stack)\n",
    "\n",
    "# Stack horizontally (shape becomes (2,4))\n",
    "h_stack = np.hstack((a1, a2))\n",
    "print( h_stack)\n",
    "\n",
    "# Reshape a (4,4) array into (2,8)\n",
    "arr = np.arange(16).reshape(4, 4)\n",
    "reshaped = arr.reshape(2, 8)\n",
    "print( reshaped)\n"
   ]
  },
  {
   "cell_type": "code",
   "execution_count": 19,
   "id": "115f2617",
   "metadata": {},
   "outputs": [
    {
     "name": "stdout",
     "output_type": "stream",
     "text": [
      "[15 20 25 30]\n",
      "[[ 5 -1 15]\n",
      " [-1 25 -1]]\n"
     ]
    }
   ],
   "source": [
    "# 10. Boolean Masking\n",
    "\n",
    "arr = np.array([[5, 10, 15], [20, 25, 30]])\n",
    "\n",
    "# Select all elements > 10\n",
    "greater_than_10 = arr[arr > 10]\n",
    "print( greater_than_10)\n",
    "\n",
    "# Replace all even numbers with -1\n",
    "arr[arr % 2 == 0] = -1\n",
    "print( arr)"
   ]
  },
  {
   "cell_type": "code",
   "execution_count": null,
   "id": "af6805e2",
   "metadata": {},
   "outputs": [
    {
     "name": "stdout",
     "output_type": "stream",
     "text": [
      "21\n",
      "[2.5 3.5 4.5]\n",
      "[3 6]\n",
      "1.707825127659933\n"
     ]
    }
   ],
   "source": [
    "#11. Aggregation\n",
    "arr = np.array([[1, 2, 3], [4, 5, 6]])\n",
    "\n",
    "# Sum of all elements\n",
    "total_sum = np.sum(arr)\n",
    "print( total_sum)\n",
    "\n",
    "# Mean of each column\n",
    "mean_columns = np.mean(arr, axis=0)\n",
    "print( mean_columns)\n",
    "\n",
    "# Max value in each row\n",
    "max_rows = np.max(arr, axis=1)\n",
    "print( max_rows)\n",
    "\n",
    "# Standard deviation of the array\n",
    "std_dev = np.std(arr)\n",
    "print( std_dev)\n"
   ]
  },
  {
   "cell_type": "code",
   "execution_count": null,
   "id": "e71f2793",
   "metadata": {},
   "outputs": [
    {
     "name": "stdout",
     "output_type": "stream",
     "text": [
      "[[19 22]\n",
      " [43 50]]\n"
     ]
    }
   ],
   "source": [
    "#12. Dot Product and Matrix Multiplication\n",
    "A = np.array([[1, 2],\n",
    "              [3, 4]])\n",
    "\n",
    "B = np.array([[5, 6],\n",
    "              [7, 8]])\n",
    "\n",
    "# Multiply using dot product\n",
    "result = np.dot(A, B)\n",
    "\n",
    "print( result)\n"
   ]
  },
  {
   "cell_type": "code",
   "execution_count": null,
   "id": "6ef58e21",
   "metadata": {},
   "outputs": [
    {
     "name": "stdout",
     "output_type": "stream",
     "text": [
      "[[0.43753365 0.32848677 0.86557971]\n",
      " [0.33897854 0.26456348 0.37380462]]\n",
      "[60 57 89 65 61 74 74 59 80 56]\n"
     ]
    }
   ],
   "source": [
    "#13. Random Numbers\n",
    "# 1. Generate a 2x3 array of random numbers between 0 and 1\n",
    "random_array = np.random.rand(2, 3)\n",
    "print( random_array)\n",
    "\n",
    "# 2. Generate 10 random integers between 50 and 100 (inclusive of 50, exclusive of 100)\n",
    "random_integers = np.random.randint(50, 100, size=10)\n",
    "print( random_integers)\n"
   ]
  },
  {
   "cell_type": "code",
   "execution_count": null,
   "id": "3e4415c6",
   "metadata": {},
   "outputs": [
    {
     "name": "stdout",
     "output_type": "stream",
     "text": [
      "2\n",
      "[[-2.   1. ]\n",
      " [ 1.5 -0.5]]\n",
      "-2.0000000000000004\n"
     ]
    }
   ],
   "source": [
    "#14. Linear Algebra\n",
    "# Define a square matrix\n",
    "A = np.array([[1, 2],\n",
    "              [3, 4]])\n",
    "\n",
    "# 1. Find the rank of a matrix\n",
    "rank = np.linalg.matrix_rank(A)\n",
    "print( rank)\n",
    "\n",
    "# 2. Compute the inverse of a matrix\n",
    "inverse = np.linalg.inv(A)\n",
    "print( inverse)\n",
    "\n",
    "# 3. Compute the determinant of a matrix\n",
    "determinant = np.linalg.det(A)\n",
    "print( determinant)\n"
   ]
  },
  {
   "cell_type": "code",
   "execution_count": null,
   "id": "73099498",
   "metadata": {},
   "outputs": [],
   "source": []
  },
  {
   "cell_type": "code",
   "execution_count": null,
   "id": "4831aaae",
   "metadata": {},
   "outputs": [],
   "source": []
  },
  {
   "cell_type": "code",
   "execution_count": null,
   "id": "2167f148",
   "metadata": {},
   "outputs": [],
   "source": []
  },
  {
   "cell_type": "code",
   "execution_count": null,
   "id": "465312e4",
   "metadata": {},
   "outputs": [],
   "source": []
  },
  {
   "cell_type": "code",
   "execution_count": null,
   "id": "fabd0e5a",
   "metadata": {},
   "outputs": [],
   "source": []
  }
 ],
 "metadata": {
  "kernelspec": {
   "display_name": "Python 3",
   "language": "python",
   "name": "python3"
  },
  "language_info": {
   "codemirror_mode": {
    "name": "ipython",
    "version": 3
   },
   "file_extension": ".py",
   "mimetype": "text/x-python",
   "name": "python",
   "nbconvert_exporter": "python",
   "pygments_lexer": "ipython3",
   "version": "3.13.2"
  }
 },
 "nbformat": 4,
 "nbformat_minor": 5
}
